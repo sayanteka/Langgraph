{
 "cells": [
  {
   "cell_type": "markdown",
   "id": "21fa2e13-567d-4509-9023-c99fb230f31f",
   "metadata": {},
   "source": [
    "# Lesson 2 : LangGraph Components"
   ]
  },
  {
   "cell_type": "code",
   "execution_count": 1,
   "id": "f5762271-8736-4e94-9444-8c92bd0e8074",
   "metadata": {
    "height": 47
   },
   "outputs": [],
   "source": [
    "from dotenv import load_dotenv\n",
    "_ = load_dotenv()"
   ]
  },
  {
   "cell_type": "code",
   "execution_count": 2,
   "id": "d0168aee-bce9-4d60-b827-f86a88187e31",
   "metadata": {
    "height": 115
   },
   "outputs": [],
   "source": [
    "from langgraph.graph import StateGraph, END\n",
    "from typing import TypedDict, Annotated\n",
    "import operator\n",
    "from langchain_core.messages import AnyMessage, SystemMessage, HumanMessage, ToolMessage\n",
    "from langchain_openai import ChatOpenAI\n",
    "from langchain_community.tools.tavily_search import TavilySearchResults"
   ]
  },
  {
   "cell_type": "code",
   "execution_count": 3,
   "id": "2589c5b6-6cc2-4594-9a17-dccdcf676054",
   "metadata": {
    "height": 64
   },
   "outputs": [
    {
     "name": "stdout",
     "output_type": "stream",
     "text": [
      "<class 'langchain_community.tools.tavily_search.tool.TavilySearchResults'>\n",
      "tavily_search_results_json\n"
     ]
    }
   ],
   "source": [
    "tool = TavilySearchResults(max_results=4) #increased number of results\n",
    "print(type(tool))\n",
    "print(tool.name)"
   ]
  },
  {
   "cell_type": "markdown",
   "id": "e196c186-af55-4f2d-b569-b7d63a859304",
   "metadata": {},
   "source": [
    "> If you are not familiar with python typing annotation, you can refer to the [python documents](https://docs.python.org/3/library/typing.html)."
   ]
  },
  {
   "cell_type": "code",
   "execution_count": 4,
   "id": "a2ba84ec-c172-4de7-ac55-e3158a531b23",
   "metadata": {
    "height": 47
   },
   "outputs": [],
   "source": [
    "class AgentState(TypedDict):\n",
    "    messages: Annotated[list[AnyMessage], operator.add]"
   ]
  },
  {
   "cell_type": "code",
   "execution_count": 113,
   "id": "183051a4",
   "metadata": {
    "height": 2410
   },
   "outputs": [],
   "source": [
    "from langgraph.graph import StateGraph, END\n",
    "from pydantic import BaseModel, Field\n",
    "from langchain.prompts import PromptTemplate\n",
    "from langchain_core.messages import AnyMessage, SystemMessage, HumanMessage, ToolMessage\n",
    "\n",
    "class TopicSelectionParser(BaseModel):\n",
    "    Topic: str = Field(description='classify the query into sports or not related')\n",
    "\n",
    "class SportsTopicParser(BaseModel):\n",
    "    Country: str = Field(description='Country involved in the sports query')\n",
    "    Game: str = Field(description='Game or sport mentioned in the query')\n",
    "\n",
    "\n",
    "class Agent:\n",
    "    def __init__(self, model, tools, system=\"\"):\n",
    "        self.system = system\n",
    "        graph = StateGraph(AgentState)\n",
    "        \n",
    "        # Define nodes\n",
    "        graph.add_node(\"llm-start\", self.function_1)\n",
    "        graph.add_node(\"sports-details\", self.function_2)\n",
    "        graph.add_node(\"llm\", self.call_openai)\n",
    "        graph.add_node(\"action\", self.take_action)\n",
    "        \n",
    "        # Conditional routing for topics\n",
    "        graph.add_conditional_edges(\n",
    "            \"llm-start\",\n",
    "            self.router,\n",
    "            {True: \"sports-details\", False: \"llm\"}\n",
    "        )\n",
    "        \n",
    "        # Conditional routing for tool invocation\n",
    "        graph.add_conditional_edges(\n",
    "            \"llm\",\n",
    "            self.exists_action,\n",
    "            {True: \"action\", False: END}\n",
    "        )\n",
    "        \n",
    "        # Sequential edge: If a tool is called, return to llm after action\n",
    "        graph.add_edge(\"sports-details\", END)\n",
    "        graph.add_edge(\"action\", \"llm\")\n",
    "        \n",
    "        \n",
    "        # Set the entry point and compile the graph\n",
    "        graph.set_entry_point(\"llm-start\")\n",
    "        self.graph = graph.compile()\n",
    "        self.tools = {t.name: t for t in tools}\n",
    "        self.model = model.bind_tools(tools)\n",
    "        self.model1=model\n",
    "    \n",
    "    def function_1(self, state):\n",
    "        \n",
    "        messages = state['messages']\n",
    "        question = messages[-1]\n",
    "        print(question)\n",
    "        \n",
    "        # Topic selection template\n",
    "        template = \"\"\"Your task is to provide only the topic based on the user query. \n",
    "                      Only output the topic among: [Sports, Not Related]. \n",
    "                      Don't include reasoning. Following is the user query: {question}\"\"\"\n",
    "        \n",
    "        \n",
    "        prompt = PromptTemplate(\n",
    "            template=template,\n",
    "            input_variables=[\"question\"]\n",
    "        )\n",
    "        \n",
    "        chain = prompt | self.model1\n",
    "        response_data = chain.invoke({\"question\": question})\n",
    "        response_content = response_data.content\n",
    "        print(response_content)\n",
    "        response_dict = {\"Topic\": response_content}\n",
    "        response = TopicSelectionParser(**response_dict) \n",
    "        #response = parse_topic_selection(response_data)  # Parse using TopicSelectionParser\n",
    "        print(\"Detected Topic:\", response.Topic)\n",
    "        \n",
    "        return {\"messages\": [response.Topic]}\n",
    "    \n",
    "    def function_2(self, state):\n",
    "        messages = state['messages']\n",
    "        question = messages[0]\n",
    "        print(question)\n",
    "        \n",
    "        # Sports details extraction template\n",
    "        sports_template = \"\"\"Extract the country and the specific game mentioned in the user query. \n",
    "                             Provide only the country and game names. Here is the user query: {question}\"\"\"\n",
    "        \n",
    "        sports_prompt = PromptTemplate(\n",
    "            template=sports_template,\n",
    "            input_variables=[\"question\"]\n",
    "        )\n",
    "        \n",
    "        sports_chain = sports_prompt | self.model1\n",
    "        sports_response_data = sports_chain.invoke({\"question\": question})\n",
    "        response_content = sports_response_data.content\n",
    "        \n",
    "        response_dict = {}\n",
    "        for line in response_content.strip().split('\\n'):\n",
    "            key, value = line.split(\":\", 1)\n",
    "            response_dict[key.strip()] = value.strip()\n",
    "        response = SportsTopicParser(**response_dict) \n",
    "        #sports_response = parse_sports_details(sports_response_data)  # Parse using SportsTopicParser\n",
    "        \n",
    "        print(\"Extracted Country:\", response.Country)\n",
    "        print(\"Extracted Game:\", response.Game)\n",
    "        \n",
    "        return {\"messages\": [response.Country, response.Game]}\n",
    "    \n",
    "    def router(self, state):\n",
    "        messages = state[\"messages\"]\n",
    "        print(messages)\n",
    "        last_message = messages[-1]\n",
    "        if 'Sports' in last_message:\n",
    "            return True\n",
    "        else:\n",
    "             return False\n",
    "    \n",
    "    def exists_action(self, state):\n",
    "        result = state['messages'][-1]\n",
    "        return len(result.tool_calls) > 0\n",
    "    \n",
    "    def call_openai(self, state):\n",
    "        messages = state['messages']\n",
    "        if self.system:\n",
    "            messages = [SystemMessage(content=self.system)] + messages\n",
    "        message = self.model.invoke(messages)\n",
    "        return {'messages': [message]}\n",
    "    \n",
    "    def take_action(self, state):\n",
    "        tool_calls = state['messages'][-1].tool_calls\n",
    "        results = []\n",
    "        for t in tool_calls:\n",
    "            print(f\"Calling tool: {t}\")\n",
    "            if t['name'] not in self.tools:\n",
    "                result = \"Invalid tool name, please retry.\"\n",
    "            else:\n",
    "                result = self.tools[t['name']].invoke(t['args'])\n",
    "            results.append(ToolMessage(tool_call_id=t['id'], name=t['name'], content=str(result)))\n",
    "        print(\"Returning to model...\")\n",
    "        return {'messages': results}\n"
   ]
  },
  {
   "cell_type": "code",
   "execution_count": 83,
   "id": "9f902b1f",
   "metadata": {
    "height": 489
   },
   "outputs": [
    {
     "name": "stdout",
     "output_type": "stream",
     "text": [
      "Argentina has won football game\n",
      "Sports\n",
      "Detected Topic: Sports\n"
     ]
    },
    {
     "data": {
      "text/plain": [
       "{'messages': ['Sports']}"
      ]
     },
     "execution_count": 83,
     "metadata": {},
     "output_type": "execute_result"
    }
   ],
   "source": [
    "def function_1(state):\n",
    "        \n",
    "        messages = state[0]\n",
    "        question = messages\n",
    "        print(question)\n",
    "        \n",
    "        # Topic selection template\n",
    "        template = \"\"\"Your task is to provide only the topic based on the user query. \n",
    "                      Only output the topic among: [Sports, Not Related]. \n",
    "                      Don't include reasoning. Following is the user query: {question}\"\"\"\n",
    "        \n",
    "        prompt = PromptTemplate(\n",
    "            template=template,\n",
    "            input_variables=[\"question\"]\n",
    "        )\n",
    "        model = ChatOpenAI(model=\"gpt-3.5-turbo\")\n",
    "        chain = prompt | model\n",
    "        response_data = chain.invoke({\"question\": question})\n",
    "        response_content = response_data.content\n",
    "        response_dict = {\"Topic\": response_content}\n",
    "        response = TopicSelectionParser(**response_dict) \n",
    "        #response = parse_topic_selection(response_data)  # Parse using TopicSelectionParser\n",
    "        print(\"Detected Topic:\", response.Topic)\n",
    "        \n",
    "        return {\"messages\": [response.Topic]}\n",
    "\n",
    "k=function_1([\"Argentina has won football game\"])\n",
    "k"
   ]
  },
  {
   "cell_type": "code",
   "execution_count": 112,
   "id": "d984de2b",
   "metadata": {
    "height": 523
   },
   "outputs": [
    {
     "name": "stdout",
     "output_type": "stream",
     "text": [
      "Argentina has won football game\n",
      "Extracted Country: Argentina\n",
      "Extracted Game: Football\n"
     ]
    },
    {
     "data": {
      "text/plain": [
       "{'messages': ['Argentina', 'Football']}"
      ]
     },
     "execution_count": 112,
     "metadata": {},
     "output_type": "execute_result"
    }
   ],
   "source": [
    "def function_2(state):\n",
    "        messages = state[0]\n",
    "        question = messages\n",
    "        print(question)\n",
    "        \n",
    "        # Sports details extraction template\n",
    "        sports_template = \"\"\"Extract the country and the specific game mentioned in the user query. \n",
    "                             Provide only the country and game names. Here is the user query: {question}\"\"\"\n",
    "        \n",
    "        sports_prompt = PromptTemplate(\n",
    "            template=sports_template,\n",
    "            input_variables=[\"question\"]\n",
    "        )\n",
    "        model = ChatOpenAI(model=\"gpt-3.5-turbo\")\n",
    "        sports_chain = sports_prompt |model\n",
    "        sports_response_data = sports_chain.invoke({\"question\": question})\n",
    "        response_content = sports_response_data.content\n",
    "        \n",
    "        response_dict = {}\n",
    "        for line in response_content.strip().split('\\n'):\n",
    "            key, value = line.split(\":\", 1)\n",
    "            response_dict[key.strip()] = value.strip()\n",
    "        response = SportsTopicParser(**response_dict) \n",
    "        print(\"Extracted Country:\", response.Country)\n",
    "        print(\"Extracted Game:\", response.Game)\n",
    "        \n",
    "        return {\"messages\": [response.Country, response.Game]}\n",
    "\n",
    "k=function_2([\"Argentina has won football game\"])\n",
    "k"
   ]
  },
  {
   "cell_type": "markdown",
   "id": "74c7ba73-e603-453b-b06f-5db92c567b19",
   "metadata": {},
   "source": [
    "> Note: in `take_action` below, some logic was added to cover the case that the LLM returned a non-existent tool name. Even with function calling, LLMs can still occasionally hallucinate. Note that all that is done is instructing the LLM to try again! An advantage of an agentic organization."
   ]
  },
  {
   "cell_type": "code",
   "execution_count": 84,
   "id": "a05347a6",
   "metadata": {
    "height": 30
   },
   "outputs": [
    {
     "data": {
      "text/plain": [
       "[HumanMessage(content='Argentina has won football game')]"
      ]
     },
     "execution_count": 84,
     "metadata": {},
     "output_type": "execute_result"
    }
   ],
   "source": [
    "messages"
   ]
  },
  {
   "cell_type": "code",
   "execution_count": 114,
   "id": "10084a02-2928-4945-9f7c-ad3f5b33caf7",
   "metadata": {
    "height": 132
   },
   "outputs": [],
   "source": [
    "prompt = \"\"\"You are a smart research assistant.  \\\n",
    "You are allowed to make multiple calls (either together or in sequence). \\\n",
    "Only look up information when you are sure of what you want. \n",
    "\"\"\"\n",
    "\n",
    "model = ChatOpenAI(model=\"gpt-3.5-turbo\")  #reduce inference cost\n",
    "abot = Agent(model, [tool], system=prompt)"
   ]
  },
  {
   "cell_type": "code",
   "execution_count": 27,
   "id": "a3d6f5f4-2392-41b9-ab96-7919840baa3e",
   "metadata": {
    "height": 64
   },
   "outputs": [
    {
     "data": {
      "image/png": "[encoded data removed]",
      "text/plain": [
       "<IPython.core.display.Image object>"
      ]
     },
     "execution_count": 27,
     "metadata": {},
     "output_type": "execute_result"
    }
   ],
   "source": [
    "from IPython.display import Image\n",
    "\n",
    "Image(abot.graph.get_graph().draw_png())"
   ]
  },
  {
   "cell_type": "code",
   "execution_count": 123,
   "id": "83588e70-254f-4f83-a510-c8ae81e729b0",
   "metadata": {
    "height": 47
   },
   "outputs": [
    {
     "name": "stdout",
     "output_type": "stream",
     "text": [
      "content='Argentina has won football game'\n",
      "Sports\n",
      "Detected Topic: Sports\n",
      "[HumanMessage(content='Argentina has won football game'), 'Sports']\n",
      "content='Argentina has won football game'\n",
      "Extracted Country: Argentina\n",
      "Extracted Game: football\n"
     ]
    }
   ],
   "source": [
    "messages = [HumanMessage(content=\"Argentina has won football game\")]\n",
    "result = abot.graph.invoke({\"messages\": messages})"
   ]
  },
  {
   "cell_type": "code",
   "execution_count": 124,
   "id": "89a06a8c-fcd4-4ca6-98f0-36c5809813e6",
   "metadata": {
    "height": 30,
    "scrolled": true
   },
   "outputs": [
    {
     "data": {
      "text/plain": [
       "{'messages': [HumanMessage(content='Argentina has won football game'),\n",
       "  'Sports',\n",
       "  'Argentina',\n",
       "  'football']}"
      ]
     },
     "execution_count": 124,
     "metadata": {},
     "output_type": "execute_result"
    }
   ],
   "source": [
    "result"
   ]
  },
  {
   "cell_type": "code",
   "execution_count": 118,
   "id": "37f3e2d8",
   "metadata": {
    "height": 30
   },
   "outputs": [
    {
     "data": {
      "text/plain": [
       "'Football'"
      ]
     },
     "execution_count": 118,
     "metadata": {},
     "output_type": "execute_result"
    }
   ],
   "source": [
    "result['messages'][-1]"
   ]
  },
  {
   "cell_type": "code",
   "execution_count": 125,
   "id": "98e5585a",
   "metadata": {
    "height": 30
   },
   "outputs": [
    {
     "ename": "AttributeError",
     "evalue": "'str' object has no attribute 'content'",
     "output_type": "error",
     "traceback": [
      "\u001b[0;31m---------------------------------------------------------------------------\u001b[0m",
      "\u001b[0;31mAttributeError\u001b[0m                            Traceback (most recent call last)",
      "Cell \u001b[0;32mIn[125], line 1\u001b[0m\n\u001b[0;32m----> 1\u001b[0m \u001b[43mresult\u001b[49m\u001b[43m[\u001b[49m\u001b[38;5;124;43m'\u001b[39;49m\u001b[38;5;124;43mmessages\u001b[39;49m\u001b[38;5;124;43m'\u001b[39;49m\u001b[43m]\u001b[49m\u001b[43m[\u001b[49m\u001b[38;5;241;43m-\u001b[39;49m\u001b[38;5;241;43m1\u001b[39;49m\u001b[43m]\u001b[49m\u001b[38;5;241;43m.\u001b[39;49m\u001b[43mcontent\u001b[49m\n",
      "\u001b[0;31mAttributeError\u001b[0m: 'str' object has no attribute 'content'"
     ]
    }
   ],
   "source": [
    "result['messages'][-1].content"
   ]
  },
  {
   "cell_type": "code",
   "execution_count": 128,
   "id": "a4d63a9b",
   "metadata": {
    "height": 47
   },
   "outputs": [
    {
     "name": "stdout",
     "output_type": "stream",
     "text": [
      "content='can you tell about EY company'\n",
      "Not Related\n",
      "Detected Topic: Not Related\n",
      "[HumanMessage(content='can you tell about EY company'), 'Not Related']\n",
      "Calling tool: {'name': 'tavily_search_results_json', 'args': {'query': 'EY company'}, 'id': 'call_x4rl77KMgKhiH3EELASTnsUO'}\n",
      "Returning to model...\n"
     ]
    }
   ],
   "source": [
    "messages = [HumanMessage(content=\"can you tell about EY company\")]\n",
    "result = abot.graph.invoke({\"messages\": messages})"
   ]
  },
  {
   "cell_type": "code",
   "execution_count": 129,
   "id": "6cb3ef4c-58b3-401b-b104-0d51e553d982",
   "metadata": {
    "height": 30
   },
   "outputs": [
    {
     "data": {
      "text/plain": [
       "\"EY, formerly known as Ernst & Young, is a global professional services firm that offers audit, tax, consulting, and strategy services. It is one of the Big Four accounting firms and operates in over 150 countries. EY was formed in 1989 through a merger between Ernst & Whinney and Arthur Young, becoming the world's largest accounting firm at the time. EY has a long history dating back over 100 years and has undergone various expansions and re-branding efforts over the years.\\n\\nFor more information, you can visit their official website [here](https://www.ey.com/en_us).\""
      ]
     },
     "execution_count": 129,
     "metadata": {},
     "output_type": "execute_result"
    }
   ],
   "source": [
    "result['messages'][-1].content"
   ]
  },
  {
   "cell_type": "code",
   "execution_count": 130,
   "id": "3d1a02c7",
   "metadata": {
    "height": 30
   },
   "outputs": [
    {
     "data": {
      "text/plain": [
       "[HumanMessage(content='can you tell about EY company'),\n",
       " 'Not Related',\n",
       " AIMessage(content='', additional_kwargs={'tool_calls': [{'id': 'call_x4rl77KMgKhiH3EELASTnsUO', 'function': {'arguments': '{\"query\":\"EY company\"}', 'name': 'tavily_search_results_json'}, 'type': 'function'}]}, response_metadata={'token_usage': {'completion_tokens': 20, 'prompt_tokens': 130, 'total_tokens': 150, 'prompt_tokens_details': {'cached_tokens': 0, 'audio_tokens': 0}, 'completion_tokens_details': {'reasoning_tokens': 0, 'audio_tokens': 0, 'accepted_prediction_tokens': 0, 'rejected_prediction_tokens': 0}}, 'model_name': 'gpt-3.5-turbo', 'system_fingerprint': None, 'finish_reason': 'tool_calls', 'logprobs': None}, id='run-f8948048-aeeb-46c5-acfb-36250f0d4bee-0', tool_calls=[{'name': 'tavily_search_results_json', 'args': {'query': 'EY company'}, 'id': 'call_x4rl77KMgKhiH3EELASTnsUO'}]),\n",
       " ToolMessage(content='[{\\'url\\': \\'https://www.ey.com/en_us\\', \\'content\\': \\'EY is a global professional services firm that offers audit, tax, consulting and strategy services. Explore the latest reports, videos and news on topics such as MedTech, AI, loyalty programs, US election and more.\\'}, {\\'url\\': \\'https://www.forbes.com/companies/ey/\\', \\'content\\': \\'EY is one of the Big Four accounting firms, offering audit, consulting, tax, and other services in over 150 countries. Learn about its history, CEO, employees, awards, and news on Forbes.\\'}, {\\'url\\': \\'https://www.company-histories.com/Ernst-Young-Company-History.html\\', \\'content\\': \"Company Origins\\\\nThe roots of Ernst & Young can be traced back well over 100 years to the formation of the auditing business and the development of generally accepted accounting practices, rules that became increasingly necessary with the rise of the multinational corporation and the intrusion of complicated taxes into private business. The firm was formed in 1989 when the third largest accounting firm at the time, Ernst & Whinney (based in Cleveland, Ohio), merged with the sixth largest firm, Arthur Young (headquartered in New York), forming what, at the time, was the world\\'s largest accounting firm. Although touted as a merger, the evidence suggests that the 1989 transaction that created the firm Ernst & Young was, in fact, an acquisition in disguise, with the stronger Ernst & Whinney swallowing up the floundering Arthur Young practice. Following two major mergers in the 1980s (the Ernst & Young deal and the merger the same year between Deloitte, Haskins & Sells and Touche Ross), the Big Eight became the Big Six. Paying for the S&L Scandal\\\\nHowever, as the newly formed firm faced the 1990s, it was steeped in the controversy surrounding the crisis of the savings and loan industry.\"}, {\\'url\\': \\'https://en.wikipedia.org/wiki/Ernst_&_Young\\', \\'content\\': \\'Recent history, re-branding and expansion[edit]\\\\nIn 2002, Ernst & Young serviced a large chunk of the clients previously working with Arthur Andersen after their downfall in connection with the Enron scandal, although it did not engage with any new Arthur Andersen clients from the United Kingdom, China, or the Netherlands.[21] Four years later, Ernst & Young became the only member of the Big Four to have two member firms in the United States, with the inclusion of Mitchell & Titus, LLP in 2006, the largest minority-owned accounting firm in the United States.[22][23] Mitchell & Titus ended its membership in the EY network effective October 30, 2015.[24]\\\\nIn April 2009, Reuters reported that Ernst & Young, spurred by the global economic downturn, had launched a cost-saving initiative encouraging its staff in China to take 40 days of low-pay leave between the summer of 2009 and the summer of 2010. the German \"Abschlussprüferaufsichtstelle\" (APAS) - the federal watchdog, responsible for the oversight on auditors - assessed, that EY has committed violations of duty on its Wirecard mandate and prohibited the company for two years to accept new audit mandates for companies at the German stock exchange.[73]\\\\nExam cheating by audit professionals[edit]\\\\nIn June 2022, the SEC fined the firm US$100 million \"for cheating by its audit professionals on exams required to obtain and maintain Certified Public Accountant (CPA) licenses, and for withholding evidence of this misconduct from the SEC\\\\\\'s Enforcement Division during the Division\\\\\\'s investigation of the matter\".[74] EY admitted \"the facts underlying the SEC’s charges\"[74] and the penalty is a record imposed on a US audit firm.[75] The FSA also said the \"firm’s operations were deeply improper\".[98] ShinNihon, at the time, was Japan\\\\\\'s biggest accounting firm, with about 3,500 certified accountants and more than 4,000 clients.[97] Ernst & Young ShinNihon audited about 960 listed companies in Japan, the most among the Big Four, as reported in 2015.[99] Ernst & Young ShinNihon had audited Toshiba for over 60 years and the firm had around 70 staff serving Toshiba before the accounting scandal broke.[99]\\\\nErnst & Young Baltic, member of the EY network, used the emission assumptions of highly polluting EURO II trucks (manufactured before 2001) to falsely increase the socio-economic benefits of the new railway for the period 2026–2055 by 3 billion euros in the Rail Baltica Cost-Benefit Analysis. In 2013, the firm officially changed its brand from Ernst & Young to EY, and christened the accompanying tagline: \"Building a better working world\".[27][7][8][28]\\\\nAlso in 2013, the Pope of the Roman Catholic church hired EY to help review Vatican City State\\\\\\'s finances and help \"verify and consult\" the institution\\\\\\'s administration, including the museums, post office and tax-free department store.[29] EY expanded further and acquired all of KPMG Denmark\\\\\\'s operations including its 150 partners, 1500 employees and 21 offices.[30]\\\\nIn 2014, EY acquired global strategy consulting firm The Parthenon Group, gaining 350 consultants in its then-Transaction Advisory Services practice so that it could provide in-house strategy consulting services to its clients. This was important because shareholders have less confidence in mainland auditors and because audit papers on the mainland are subject to state secrecy laws and can be withheld from outside regulators.[59] EY\\\\\\'s quality and risk management leader (Greater China) even testified in the Court of First Instance that he was not sure whether there was a formal agreement covering the relationship between the two EY entities.[59] The court case in 2013 came as US regulators were taking an interest in similar cases of accounting fraud in mainland China.[59]\\\\nIn September 2016, the US securities regulatory SEC fined EY US US$9.3 million for failures, including an auditor\\\\\\'s romantic involvement with a client.\\\\n\\'}]', name='tavily_search_results_json', tool_call_id='call_x4rl77KMgKhiH3EELASTnsUO'),\n",
       " AIMessage(content=\"EY, formerly known as Ernst & Young, is a global professional services firm that offers audit, tax, consulting, and strategy services. It is one of the Big Four accounting firms and operates in over 150 countries. EY was formed in 1989 through a merger between Ernst & Whinney and Arthur Young, becoming the world's largest accounting firm at the time. EY has a long history dating back over 100 years and has undergone various expansions and re-branding efforts over the years.\\n\\nFor more information, you can visit their official website [here](https://www.ey.com/en_us).\", response_metadata={'token_usage': {'completion_tokens': 126, 'prompt_tokens': 1472, 'total_tokens': 1598, 'prompt_tokens_details': {'cached_tokens': 0, 'audio_tokens': 0}, 'completion_tokens_details': {'reasoning_tokens': 0, 'audio_tokens': 0, 'accepted_prediction_tokens': 0, 'rejected_prediction_tokens': 0}}, 'model_name': 'gpt-3.5-turbo', 'system_fingerprint': None, 'finish_reason': 'stop', 'logprobs': None}, id='run-26a7e4d5-ceaa-41f7-8e4a-08980ae44733-0')]"
      ]
     },
     "execution_count": 130,
     "metadata": {},
     "output_type": "execute_result"
    }
   ],
   "source": [
    "result['messages']"
   ]
  },
  {
   "cell_type": "code",
   "execution_count": 127,
   "id": "c769c5f2",
   "metadata": {
    "height": 30
   },
   "outputs": [
    {
     "data": {
      "text/plain": [
       "[HumanMessage(content='Argentina has won football game'),\n",
       " 'Sports',\n",
       " 'Argentina',\n",
       " 'football']"
      ]
     },
     "execution_count": 127,
     "metadata": {},
     "output_type": "execute_result"
    }
   ],
   "source": [
    "result['messages']"
   ]
  },
  {
   "cell_type": "code",
   "execution_count": null,
   "id": "de7a749d",
   "metadata": {
    "height": 30
   },
   "outputs": [],
   "source": []
  },
  {
   "cell_type": "code",
   "execution_count": null,
   "id": "ee0fe1c7-77e2-499c-a2f9-1f739bb6ddf0",
   "metadata": {
    "height": 30
   },
   "outputs": [],
   "source": [
    "print(result['messages'][-1].content)"
   ]
  },
  {
   "cell_type": "code",
   "execution_count": null,
   "id": "1d643182-2802-40fb-ba35-d4f893c5b976",
   "metadata": {
    "height": 30
   },
   "outputs": [],
   "source": []
  }
 ],
 "metadata": {
  "kernelspec": {
   "display_name": "Python 3 (ipykernel)",
   "language": "python",
   "name": "python3"
  },
  "language_info": {
   "codemirror_mode": {
    "name": "ipython",
    "version": 3
   },
   "file_extension": ".py",
   "mimetype": "text/x-python",
   "name": "python",
   "nbconvert_exporter": "python",
   "pygments_lexer": "ipython3",
   "version": "3.11.9"
  }
 },
 "nbformat": 4,
 "nbformat_minor": 5
}
